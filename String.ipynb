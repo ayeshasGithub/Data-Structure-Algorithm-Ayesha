{
 "cells": [
  {
   "cell_type": "markdown",
   "metadata": {},
   "source": [
    "# Balanced delimiter \n",
    "All the open brace/delimiter has a closing brace/delimiter. \n",
    "Coding: \n",
    "## * initialize one list with open brace and one with closing brace, make sure the indexes match!\n",
    "## * run a loop on the given string \n",
    "## * inside the loop if an open brace is found append it to a list named stack \n",
    "## * elif closed brace is found in close_list\n",
    "\n",
    "1. pop one item from stack, \n",
    "2. then if the popped item’s index of open list & closed brace’s index of closed list match pass \n",
    "3. if doesn't match return false. \n",
    "## * if you reach the for loop’s end and don’t return false then yes return True! You have balance diameter.\n",
    "## * Time complexity: O(n), space complexity: ?\n"
   ]
  },
  {
   "cell_type": "code",
   "execution_count": 4,
   "metadata": {},
   "outputs": [
    {
     "name": "stdout",
     "output_type": "stream",
     "text": [
      "False\n"
     ]
    }
   ],
   "source": [
    "def balanced_delimiter(str):\n",
    "    \"returns true if the string has balanced delimiters, false otherwise\"\n",
    "    \n",
    "    open_list=[\"(\",\"{\",\"[\"] \n",
    "    close_list=[\")\",\"}\",\"]\"]\n",
    "    \n",
    "    stack=[]\n",
    "    \n",
    "    #run a loop on the input string\n",
    "    for s in str:\n",
    "        if s in open_list:\n",
    "            stack.append(s) # open brace should go inside stack\n",
    "            \n",
    "        elif s in close_list: #brace found in closed list\n",
    "            you=stack.pop() #1. pop one item from stack\n",
    "            \n",
    "            if open_list.index(you)==close_list.index(s):#2.for a close there is an open brace!\n",
    "                pass\n",
    "            else:\n",
    "                return False #3. if doesn't match return False\n",
    "            \n",
    "    return True # your reached the end of the list ! retrun true\n",
    "\n",
    "# test the function\n",
    "print(balanced_delimiter(\"{{([)}}\"))\n",
    "    \n",
    "    "
   ]
  },
  {
   "cell_type": "markdown",
   "metadata": {},
   "source": [
    "# Palindrome (spells the same way forward and backward, racecar):\n",
    "## remember how 3 whiles are placed!\n",
    "## * as an input you might be given           “ra cec118ar?”, u might normalize it first but try to add the normalization in your code. \n",
    "## * Efficient coding is : two while inside one while i<j. First inside while(i) would increase, second inside while(j) would decrease.  If S[i]!=S[j] u can immediately say ‘no’. ?\n",
    "## * Time complexity: O(n^2). Both the inner loops are not inside each other ????? O(n)\n"
   ]
  },
  {
   "cell_type": "code",
   "execution_count": 12,
   "metadata": {},
   "outputs": [
    {
     "name": "stdout",
     "output_type": "stream",
     "text": [
      "d\n",
      "a\n",
      "False\n"
     ]
    }
   ],
   "source": [
    "def is_palindrome(str):\n",
    "    \n",
    "    i=0\n",
    "    j=len(str)-1 #since the last number will be at one index less than the string len\n",
    "    \n",
    "    \n",
    "    while i<j: #in the middle of an odd numbered string i==j and we dont care that letter ! example: damakamad, we dont care k!\n",
    "        \n",
    "        while not str[i].isalnum() and i<j: \n",
    "            #increase i until you get a alpha numeric letter\n",
    "            i+=1\n",
    "            \n",
    "        while not str[j].isalnum() and i<j:\n",
    "            #decrease j until you get a alpha numeric letter\n",
    "            j-=1\n",
    "         \n",
    "        \n",
    "        if str[i].lower()!=str[j].lower(): #you have tendency to write islower()! wrong!\n",
    "            \n",
    "            #if the lef & right letters dont match return false\n",
    "            return False\n",
    "        \n",
    "        #increment/decrement for first while\n",
    "        i+=1 \n",
    "        j-=1\n",
    "        \n",
    "    return True #reached the end so it is a palindrome\n",
    "    \n",
    "\n",
    "#test the function:\n",
    "print(is_palindrome(\"damakama\"))"
   ]
  },
  {
   "cell_type": "markdown",
   "metadata": {},
   "source": [
    "# Palindrome permutation: input is one string, check it is a palindrome permutation even if we don’t see/realize it the same way we can tell for a palindrome. \n",
    "\n",
    "## *Racecar is a palindrome, also a palindrome permutation. But ceracar is a palindrome permutation not a palindrome. \n",
    "\n",
    "## * store it in dictionary, if all the keys have an even number of count and/or one key have count 1 then that is a palindrome permutation. \n",
    "\n",
    "## * Time complexity:  O(n), space complexity O(n) since we have used a dictionary.\n"
   ]
  },
  {
   "cell_type": "code",
   "execution_count": 15,
   "metadata": {},
   "outputs": [
    {
     "name": "stdout",
     "output_type": "stream",
     "text": [
      "False\n"
     ]
    }
   ],
   "source": [
    "def is_palinPerm(str):\n",
    "    \n",
    "    \n",
    "    dic={}\n",
    "    \n",
    "    for s in str:\n",
    "        \n",
    "        if s not in dic:\n",
    "            dic[s]=1\n",
    "            \n",
    "        else:\n",
    "            dic[s]+=1\n",
    "            \n",
    "    out_1=0        \n",
    "    for key, val in dic.items():#FORGOT THIS LINE\n",
    "        \n",
    "        if val%2 !=0 and out_1==0: #value is not even so we check whether it is the first time!\n",
    "            out_1=1\n",
    "            \n",
    "        elif val%2 !=0 and out_1!=0:#value is not even and it is not the first time!\n",
    "            return False\n",
    "        \n",
    "        \n",
    "    return True\n",
    "\n",
    "\n",
    "#test the function\n",
    "\n",
    "print(is_palinPerm(\"ddamakama\"))        \n",
    "            "
   ]
  },
  {
   "cell_type": "markdown",
   "metadata": {},
   "source": [
    "# Anagram: input is two strings. Check whether one is rearrangement of other one. Anagram must have a meaning, so every anagram is a permutation of the word but every permutation is not an anagram. \n",
    "\n",
    "## * Code: two loops one to enter in dic and another to exit. \n",
    "\n",
    "## * At last, if dic is not empty return false. But first check whether str lens are equal.\n",
    "\n",
    "## * Time complexity: O(n), space complexity O(n)\n"
   ]
  },
  {
   "cell_type": "code",
   "execution_count": 18,
   "metadata": {},
   "outputs": [
    {
     "name": "stdout",
     "output_type": "stream",
     "text": [
      "False\n"
     ]
    }
   ],
   "source": [
    "def isAnagram(str1,str2):\n",
    "    \n",
    "    dic={}\n",
    "    \n",
    "    for s in str1: #first loop to enter in dic\n",
    "        \n",
    "        if s not in dic:\n",
    "            dic[s]=1\n",
    "            \n",
    "        else:\n",
    "            dic[s]+=1\n",
    "            \n",
    "            \n",
    "    for s in str2: #first loop to subtract from dic\n",
    "        \n",
    "        if s not in dic:\n",
    "            dic[s]=1\n",
    "        \n",
    "        else:\n",
    "            dic[s]-=1\n",
    "            \n",
    "            \n",
    "    #At last check whether dic is empty, if empyt return Trure,\n",
    "    \n",
    "    for s in dic: #write dictionary comprehension for this part\n",
    "        if dic[s]==0:\n",
    "            pass\n",
    "        else:\n",
    "            return False\n",
    "        \n",
    "    #You reached the end means they are anagram!\n",
    "    return True\n",
    "\n",
    "#test function\n",
    "s1=\"liste\"\n",
    "s2=\"silent\"\n",
    "print(isAnagram(s1,s2))"
   ]
  },
  {
   "cell_type": "markdown",
   "metadata": {},
   "source": [
    "# Unique: All the letters in a string are unique or not. \n",
    "\n",
    "## * Use dic to store, if a letter is seen before return false. \n",
    "\n",
    "## * If empty string return false or 1 letter string received return true.\n",
    "\n",
    "## * Time complexity: O(n), space O(n)\n",
    "\n",
    "## * try to do it with O(1) space complexity! hint: alphaset=alphaset.replace(letter,\"\")\n"
   ]
  },
  {
   "cell_type": "code",
   "execution_count": 22,
   "metadata": {},
   "outputs": [
    {
     "name": "stdout",
     "output_type": "stream",
     "text": [
      "False\n"
     ]
    }
   ],
   "source": [
    "def isUnique(str):\n",
    "    \"This function returns True if all the letters are unique otherwise False\"\n",
    "    dic={}\n",
    "    \n",
    "    for s in str:\n",
    "        \n",
    "        if s not in dic: #if the letter does not appear before\n",
    "            dic[s]=1\n",
    "        else:\n",
    "            return False #if the letter appears before\n",
    "        \n",
    "    #you made it till the end so the string is unique\n",
    "    return True\n",
    "\n",
    "#test function\n",
    "str=\"ab dga?\"\n",
    "print(isUnique(str))\n",
    "        \n",
    "            \n",
    "            \n",
    "        "
   ]
  },
  {
   "cell_type": "code",
   "execution_count": null,
   "metadata": {},
   "outputs": [],
   "source": []
  }
 ],
 "metadata": {
  "kernelspec": {
   "display_name": "Python 3",
   "language": "python",
   "name": "python3"
  },
  "language_info": {
   "codemirror_mode": {
    "name": "ipython",
    "version": 3
   },
   "file_extension": ".py",
   "mimetype": "text/x-python",
   "name": "python",
   "nbconvert_exporter": "python",
   "pygments_lexer": "ipython3",
   "version": "3.7.3"
  }
 },
 "nbformat": 4,
 "nbformat_minor": 2
}
